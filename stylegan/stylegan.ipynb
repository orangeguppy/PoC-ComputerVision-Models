{
 "cells": [
  {
   "cell_type": "code",
   "execution_count": 1,
   "id": "4e28f3e5-f876-4d06-be4d-069b8f294315",
   "metadata": {},
   "outputs": [],
   "source": [
    "import torch\n",
    "import torchvision\n",
    "import torch.nn as nn\n",
    "import math\n",
    "from torchvision import datasets, transforms\n",
    "from torch.utils.data import DataLoader\n",
    "from tqdm import tqdm"
   ]
  },
  {
   "cell_type": "code",
   "execution_count": 2,
   "id": "7c00e9cc-2b2d-4af6-98b2-168e0582c397",
   "metadata": {},
   "outputs": [],
   "source": [
    "device = torch.device(\"cuda\" if torch.cuda.is_available() else \"cpu\")"
   ]
  },
  {
   "cell_type": "code",
   "execution_count": 3,
   "id": "31ff27d3-ed2e-45a6-8a57-875f82570770",
   "metadata": {},
   "outputs": [
    {
     "data": {
      "text/plain": [
       "<torch._C.Generator at 0x7f4ce423fd10>"
      ]
     },
     "execution_count": 3,
     "metadata": {},
     "output_type": "execute_result"
    }
   ],
   "source": [
    "# Set random seeds for reproducibility\n",
    "torch.manual_seed(0)"
   ]
  },
  {
   "cell_type": "code",
   "execution_count": 4,
   "id": "d5fdc910-0a4f-41dd-8304-c533027114b6",
   "metadata": {},
   "outputs": [],
   "source": [
    "latent_dim = 256\n",
    "num_channels = [256, 128, 64, 32, 1]\n",
    "img_width = 32  # Image dimensions\n",
    "batch_size = 64\n",
    "lr_g = 0.00002  # Generator\n",
    "lr_d = 0.00001  # Discriminator\n",
    "num_epochs = 3\n",
    "device = torch.device('cuda' if torch.cuda.is_available() else 'cpu')"
   ]
  },
  {
   "cell_type": "code",
   "execution_count": 5,
   "id": "b1380881-8e4c-4c9c-a164-1c62d7d671c2",
   "metadata": {},
   "outputs": [],
   "source": [
    "transform = transforms.Compose([\n",
    "    transforms.Resize((32, 32)),\n",
    "    transforms.ToTensor(),\n",
    "    transforms.Normalize([0.5], [0.5]),  # Scale to [-1, 1]\n",
    "    transforms.RandomRotation(10),\n",
    "])\n",
    "dataset = datasets.MNIST(root='./data', train=True, transform=transform, download=True)\n",
    "dataloader = DataLoader(dataset, batch_size=batch_size, shuffle=True)"
   ]
  },
  {
   "cell_type": "code",
   "execution_count": 6,
   "id": "e0e953b8-7b87-4cae-bba1-43fabac6dba6",
   "metadata": {},
   "outputs": [],
   "source": [
    "class MappingNetwork(nn.Module):\n",
    "    def __init__(self, latent_dim):\n",
    "        super(MappingNetwork, self).__init__()\n",
    "        self.layers = nn.ModuleList()\n",
    "        for i in range(0, 8):\n",
    "            self.layers.append(nn.Sequential(\n",
    "                nn.Linear(latent_dim, latent_dim),\n",
    "                nn.LeakyReLU(negative_slope=0.2) # Usually, in StyleGan, a larger slope is used for more stability\n",
    "            ))\n",
    "            \n",
    "        # Initialise layers\n",
    "        for layer in self.layers:\n",
    "            if isinstance(layer[0], nn.Linear):\n",
    "                nn.init.kaiming_normal_(layer[0].weight, a=0.2)  # He initialisation\n",
    "                nn.init.zeros_(layer[0].bias)\n",
    "\n",
    "    def forward(self, x):\n",
    "        x = x / x.norm(dim=1, keepdim=True)\n",
    "        for layer in self.layers:\n",
    "            x = layer(x)\n",
    "        return x"
   ]
  },
  {
   "cell_type": "code",
   "execution_count": 7,
   "id": "100ebee5-2276-48e0-8eed-d04efb17b27b",
   "metadata": {},
   "outputs": [],
   "source": [
    "class Discriminator(nn.Module):\n",
    "    def __init__(self, d_conv_channels, img_width=32):\n",
    "        super(Discriminator, self).__init__()\n",
    "        self.layers = nn.ModuleList()\n",
    "        # Add layers\n",
    "        for i in range(len(d_conv_channels)-1):\n",
    "            self.layers.append(nn.Sequential(\n",
    "                nn.Conv2d(d_conv_channels[i], d_conv_channels[i+1], kernel_size=4, stride=2, padding=1),\n",
    "                nn.BatchNorm2d(d_conv_channels[i+1]),\n",
    "                nn.LeakyReLU(negative_slope=0.2)\n",
    "            ))\n",
    "\n",
    "        # Calculate the input size for a linear layer\n",
    "        final_feature_size = img_width // (2 ** (len(d_conv_channels) - 1))\n",
    "\n",
    "        # After extracting convolutional features, flatten to pass input through the fcn\n",
    "        self.layers.append(nn.Sequential(\n",
    "            nn.Flatten(),\n",
    "            nn.Linear(d_conv_channels[-1]*final_feature_size*final_feature_size, 128),\n",
    "            nn.BatchNorm1d(128),\n",
    "            nn.ReLU(),\n",
    "            nn.Linear(128, 32),\n",
    "            nn.BatchNorm1d(32),\n",
    "            nn.ReLU(),\n",
    "            nn.Linear(32, 1)\n",
    "        ))\n",
    "    def forward(self, x):\n",
    "        for layer in self.layers:\n",
    "            x = layer(x)\n",
    "        return x"
   ]
  },
  {
   "cell_type": "code",
   "execution_count": 8,
   "id": "02ebbe9c-34dc-4f0f-bc2e-52e901222f97",
   "metadata": {},
   "outputs": [],
   "source": [
    "class A(nn.Module):\n",
    "    def __init__(self, num_input_channels):\n",
    "        super(A, self).__init__()\n",
    "        self.layer = nn.Linear(latent_dim, num_input_channels*2)\n",
    "        self.num_input_channels = num_input_channels\n",
    "        \n",
    "    def forward(self, x):\n",
    "        # print(f\"Shape in A is {x.shape}, num input channels {self.num_input_channels}\")\n",
    "        batch_size = x.shape[0]\n",
    "        out = self.layer(x)\n",
    "        # print(x.shape, self.layer.shape)\n",
    "        return out.chunk(2, dim=1) # Half for channel scaling factors, the other half for channels bias. Returns (batch, num_channels), (batch, num_channels)"
   ]
  },
  {
   "cell_type": "code",
   "execution_count": 9,
   "id": "7100d6c1-7906-4a13-851e-951de7360303",
   "metadata": {},
   "outputs": [],
   "source": [
    "class B(nn.Module):\n",
    "    def __init__(self, num_input_channels, img_width):\n",
    "        super(B, self).__init__()\n",
    "        # self.noise_scalers = nn.Parameter(torch.ones(num_input_channels, 1, 1))\n",
    "        self.noise_scalers = nn.Parameter(torch.ones(num_input_channels, 1, 1) * 0.1)\n",
    "        self.noise_bias = nn.Parameter(torch.ones(num_input_channels, 1, 1) * 0.9)\n",
    "\n",
    "    def forward(self, x_shape):\n",
    "        # noise = torch.randn(x_shape, device=self.noise_scalers.device)\n",
    "        noise = torch.randn(x_shape, device=self.noise_scalers.device) * 0.1\n",
    "        # print(f\"Input shape {x_shape}, {self.noise_scalers.shape}, {self.noise_bias.shape}\")\n",
    "        return noise * self.noise_scalers + self.noise_bias"
   ]
  },
  {
   "cell_type": "code",
   "execution_count": 10,
   "id": "04cccc4a-9d47-4bc4-9fd7-62f45c6065ab",
   "metadata": {},
   "outputs": [],
   "source": [
    "class AdaIN(nn.Module):\n",
    "    def __init__(self):\n",
    "        super(AdaIN, self).__init__()\n",
    "        \n",
    "    def forward(self, x, s, b):\n",
    "        \"\"\"\n",
    "        Args:\n",
    "            x: torch.Tensor shape (batch, num_channels, img_width, img_width)\n",
    "            s: torch.Tensor shape (batch, num_channels)\n",
    "            b: torch.Tensor shape (batch_num_channels)\n",
    "        \"\"\"\n",
    "        # First carry out instance normalisation for each layer\n",
    "        mean = x.mean(dim=[2, 3], keepdim=True) # Shape (batch, num_channels, 1, 1)\n",
    "        variance = x.var(dim=[2, 3], keepdim=True) # Shape (batch, num_channels, 1, 1)\n",
    "        x_norm = (x - mean) / torch.sqrt(variance + 1e-5) # instance normalisation, but for each channel\n",
    "\n",
    "        # Reshape s and b for broadcasting, then scale using s and add bias using b\n",
    "        s, b = s[:, :, None, None], b[:, :, None, None]\n",
    "        out = s * x_norm + b\n",
    "        return out"
   ]
  },
  {
   "cell_type": "code",
   "execution_count": 11,
   "id": "ba2f29eb-2807-4871-948b-cd4f01792ab4",
   "metadata": {},
   "outputs": [],
   "source": [
    "class UpsamplingBlock(nn.Module):\n",
    "    def __init__(self, input_channels, output_channels, upsample=True):\n",
    "        super(UpsamplingBlock, self).__init__()\n",
    "        self.upsample = upsample\n",
    "        self.input_channels = input_channels\n",
    "        self.output_channels = output_channels\n",
    "\n",
    "        # Initialise one A block for each AdaIN layer\n",
    "        self.A1 = A(input_channels) if not self.upsample else A(output_channels)\n",
    "        self.A2 = A(output_channels)\n",
    "\n",
    "        # Initialise two B blocks for each UpsamplingBlock\n",
    "        self.B1 = B(input_channels, img_width) if not self.upsample else B(output_channels, img_width)\n",
    "        self.B2 = B(output_channels, img_width)\n",
    "\n",
    "        # Initialise layers for this block\n",
    "        # No upsampling for the first layer\n",
    "        if upsample: # Not the first block\n",
    "            self.upsample = nn.Upsample(scale_factor=2, mode='bilinear', align_corners=False)\n",
    "\n",
    "        # Conv1 only exists in subsequent upsampling blocks\n",
    "        self.conv1 = nn.Conv2d(input_channels, output_channels, kernel_size=3, stride=1, padding=1) if self.upsample else nn.Identity()\n",
    "        self.adain1 = AdaIN()\n",
    "        self.conv2 = nn.Conv2d(output_channels, output_channels, kernel_size=3, stride=1, padding=1) if self.upsample else nn.Conv2d(input_channels, output_channels, kernel_size=3, stride=1, padding=1)\n",
    "        self.adain2 = AdaIN()\n",
    "\n",
    "        # Activation function\n",
    "        self.leakyrelu = nn.LeakyReLU(0.2)\n",
    "    \n",
    "    def forward(self, x, w):\n",
    "        # print(f\"Original x shape now is {x.shape}, input channels {self.input_channels}, output channels {self.output_channels}\")\n",
    "        # Upsample first\n",
    "        if self.upsample:\n",
    "            x = self.upsample(x)\n",
    "\n",
    "        # print(f\"Shape of x before conv is {x.shape}\")\n",
    "        # Begin the first convolutional block\n",
    "        x = self.leakyrelu(self.conv1(x))\n",
    "        b1_out = self.B1(x.shape)\n",
    "        # print(f\"x shape is {x.shape}, b1 shape is {b1_out.shape}\")\n",
    "        x = x + b1_out\n",
    "        s, b = self.A1(w) # Obtain scaling parameters used by AdaIN\n",
    "        x = self.adain1(x, s, b) # Use AdaIN for normalisation\n",
    "\n",
    "        # Begin the last convolutional block\n",
    "        x = self.leakyrelu(self.conv2(x))\n",
    "        b2_out = self.B2(x.shape)\n",
    "        # print(f\"x shape is {x.shape}, b2 shape is {b2_out.shape}\")\n",
    "        x = x + b2_out\n",
    "        s, b = self.A2(w) # Obtain scaling parameters used by AdaIN\n",
    "        x = self.adain2(x, s, b) # Use AdaIN for normalisation\n",
    "        # print(\"done\")\n",
    "        return x"
   ]
  },
  {
   "cell_type": "code",
   "execution_count": 12,
   "id": "98dec85e-8dc5-4170-819c-408fcf596fca",
   "metadata": {},
   "outputs": [],
   "source": [
    "class Generator(nn.Module):\n",
    "    def __init__(self, num_channels, spatial_sizes):\n",
    "        super(Generator, self).__init__()\n",
    "        # self.constant = nn.Parameter(torch.ones(1, num_channels[0], spatial_sizes[0], spatial_sizes[0]))\n",
    "        self.constant = nn.Parameter(torch.randn(1, num_channels[0], spatial_sizes[0], spatial_sizes[0]))\n",
    "        self.blocks = nn.ModuleList()\n",
    "\n",
    "        # Add progressively changing upsampling blocks\n",
    "        for i in range(len(num_channels) - 1):\n",
    "            self.blocks.append(\n",
    "                UpsamplingBlock(num_channels[i], num_channels[i + 1], upsample=(i > 0))  # First block doesn't upsample\n",
    "            )\n",
    "\n",
    "    def forward(self, w):\n",
    "        batch_size = w.shape[0]\n",
    "        x = self.constant.expand(batch_size, -1, -1, -1)\n",
    "        for block in self.blocks:\n",
    "            x = block(x, w)\n",
    "        return x"
   ]
  },
  {
   "cell_type": "code",
   "execution_count": 13,
   "id": "167c9259-9597-410c-ae89-0918f8cc3d6d",
   "metadata": {},
   "outputs": [
    {
     "name": "stdout",
     "output_type": "stream",
     "text": [
      "Output shape: torch.Size([64, 1, 32, 32])\n"
     ]
    }
   ],
   "source": [
    "# Initialise generator\n",
    "spatial_sizes = [4, 8, 16, 28]\n",
    "generator = Generator(num_channels, spatial_sizes)\n",
    "\n",
    "# Create random latent vector and noise tensors\n",
    "w = torch.randn(batch_size, latent_dim)  # Latent vector\n",
    "\n",
    "# Forward pass\n",
    "output = generator(w)\n",
    "\n",
    "# Print the output shape\n",
    "print(\"Output shape:\", output.shape)"
   ]
  },
  {
   "cell_type": "code",
   "execution_count": null,
   "id": "945fd8ad-b7f8-45dd-91e3-72e39a8fc56e",
   "metadata": {},
   "outputs": [
    {
     "name": "stdout",
     "output_type": "stream",
     "text": [
      "Epoch [1/3], Step [0/938], D Loss: 1.4078, G Loss: 0.8282\n",
      "Epoch [1/3], Step [100/938], D Loss: 1.3811, G Loss: 0.8341\n",
      "Epoch [1/3], Step [200/938], D Loss: 1.3816, G Loss: 0.8274\n",
      "Epoch [1/3], Step [300/938], D Loss: 1.3648, G Loss: 0.8208\n",
      "Epoch [1/3], Step [400/938], D Loss: 1.3555, G Loss: 0.8190\n",
      "Epoch [1/3], Step [500/938], D Loss: 1.3449, G Loss: 0.8173\n",
      "Epoch [1/3], Step [600/938], D Loss: 1.3462, G Loss: 0.8151\n",
      "Epoch [1/3], Step [700/938], D Loss: 1.3223, G Loss: 0.8225\n",
      "Epoch [1/3], Step [800/938], D Loss: 1.3257, G Loss: 0.8178\n",
      "Epoch [1/3], Step [900/938], D Loss: 1.3330, G Loss: 0.8096\n"
     ]
    },
    {
     "data": {
      "image/png": "[encoded data removed]",
      "text/plain": [
       "<Figure size 640x480 with 1 Axes>"
      ]
     },
     "metadata": {},
     "output_type": "display_data"
    },
    {
     "name": "stdout",
     "output_type": "stream",
     "text": [
      "Epoch [2/3], Step [0/938], D Loss: 1.3109, G Loss: 0.8157\n",
      "Epoch [2/3], Step [100/938], D Loss: 1.3050, G Loss: 0.8171\n",
      "Epoch [2/3], Step [200/938], D Loss: 1.3063, G Loss: 0.8234\n",
      "Epoch [2/3], Step [300/938], D Loss: 1.3159, G Loss: 0.8137\n",
      "Epoch [2/3], Step [400/938], D Loss: 1.3135, G Loss: 0.8274\n",
      "Epoch [2/3], Step [500/938], D Loss: 1.2927, G Loss: 0.8192\n"
     ]
    }
   ],
   "source": [
    "import torch\n",
    "import torch.nn as nn\n",
    "import torch.optim as optim\n",
    "from torch.utils.data import DataLoader, Dataset\n",
    "from torchvision import transforms, datasets\n",
    "import matplotlib.pyplot as plt\n",
    "\n",
    "# Model Initialisation\n",
    "generator = Generator(num_channels=num_channels, spatial_sizes=[4, 8, 16, 28]).to(device)\n",
    "mapping_network = MappingNetwork(latent_dim).to(device)\n",
    "discriminator = Discriminator(d_conv_channels=[1, 32, 64, 128, 256], img_width=img_width).to(device)\n",
    "\n",
    "# Loss Function\n",
    "adversarial_loss = nn.BCEWithLogitsLoss()  # For discriminator and generator\n",
    "\n",
    "# Optimisers\n",
    "optimizer_g = optim.Adam(list(generator.parameters()) + list(mapping_network.parameters()), lr=lr_g, betas=(0.5, 0.999))\n",
    "# optimizer_g = optim.SGD(list(generator.parameters()) + list(mapping_network.parameters()), lr=lr_g)\n",
    "optimizer_d = optim.Adam(discriminator.parameters(), lr=lr_d, betas=(0.5, 0.999))\n",
    "\n",
    "# Training Loop\n",
    "for epoch in range(num_epochs):\n",
    "    for i, (real_imgs, _) in enumerate(dataloader):\n",
    "        real_imgs = real_imgs.to(device)\n",
    "\n",
    "        # ---------------------\n",
    "        # Train Discriminator\n",
    "        # ---------------------\n",
    "        # Sample latent vectors and noise\n",
    "        batch_size = real_imgs.size(0)\n",
    "        z = torch.randn(batch_size, latent_dim).to(device)  # Latent vector\n",
    "\n",
    "        # Generate fake images\n",
    "        w = mapping_network(z)\n",
    "        fake_imgs = generator(w)\n",
    "        # print(fake_imgs.shape)\n",
    "        # print(\"Fake shape above\")\n",
    "\n",
    "        # Labels\n",
    "        # real_labels = torch.ones(batch_size, 1).to(device)\n",
    "        real_labels = torch.full((batch_size, 1), 0.9, device=device)\n",
    "        fake_labels = torch.zeros(batch_size, 1).to(device)\n",
    "\n",
    "        # Discriminator loss\n",
    "        real_loss = adversarial_loss(discriminator(real_imgs), real_labels)\n",
    "        fake_loss = adversarial_loss(discriminator(fake_imgs.detach()), fake_labels)\n",
    "        d_loss = real_loss + fake_loss\n",
    "\n",
    "        optimizer_d.zero_grad()\n",
    "        d_loss.backward()\n",
    "        optimizer_d.step()\n",
    "\n",
    "        # -----------------\n",
    "        # Train Generator\n",
    "        # -----------------\n",
    "        fake_loss_g = adversarial_loss(discriminator(fake_imgs), real_labels)\n",
    "        g_loss = fake_loss_g\n",
    "\n",
    "        optimizer_g.zero_grad()\n",
    "        g_loss.backward()\n",
    "        optimizer_g.step()\n",
    "\n",
    "        # Logging\n",
    "        if i % 100 == 0:\n",
    "            print(f\"Epoch [{epoch+1}/{num_epochs}], Step [{i}/{len(dataloader)}], D Loss: {d_loss.item():.4f}, G Loss: {g_loss.item():.4f}\")\n",
    "\n",
    "    # Save some sample images every epoch\n",
    "    with torch.no_grad():\n",
    "        z = torch.randn(16, latent_dim).to(device)\n",
    "        w = mapping_network(z)\n",
    "        fake_imgs = generator(w).cpu()\n",
    "        grid = torch.cat([fake_imgs[i] for i in range(16)], dim=2)\n",
    "        plt.imshow(grid.permute(1, 2, 0).squeeze(2).detach().numpy())\n",
    "        plt.show()"
   ]
  }
 ],
 "metadata": {
  "kernelspec": {
   "display_name": "Python 3 (ipykernel)",
   "language": "python",
   "name": "python3"
  },
  "language_info": {
   "codemirror_mode": {
    "name": "ipython",
    "version": 3
   },
   "file_extension": ".py",
   "mimetype": "text/x-python",
   "name": "python",
   "nbconvert_exporter": "python",
   "pygments_lexer": "ipython3",
   "version": "3.11.11"
  }
 },
 "nbformat": 4,
 "nbformat_minor": 5
}
